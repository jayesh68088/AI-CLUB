{
  "nbformat": 4,
  "nbformat_minor": 0,
  "metadata": {
    "colab": {
      "name": "PandasTutorial3.ipynb",
      "provenance": [],
      "collapsed_sections": [
        "Bc5ebrivIFQj",
        "YGr2PjJPH-os"
      ],
      "include_colab_link": true
    },
    "kernelspec": {
      "name": "python3",
      "display_name": "Python 3"
    },
    "language_info": {
      "name": "python"
    }
  },
  "cells": [
    {
      "cell_type": "markdown",
      "metadata": {
        "id": "view-in-github",
        "colab_type": "text"
      },
      "source": [
        "<a href=\"https://colab.research.google.com/github/jayesh68088/AI-CLUB/blob/main/PANDAS%20/PandasTutorial3.ipynb\" target=\"_parent\"><img src=\"https://colab.research.google.com/assets/colab-badge.svg\" alt=\"Open In Colab\"/></a>"
      ]
    },
    {
      "cell_type": "code",
      "metadata": {
        "id": "W45yR_Ts7k06"
      },
      "source": [
        "import pandas as pd"
      ],
      "execution_count": 1,
      "outputs": []
    },
    {
      "cell_type": "code",
      "metadata": {
        "colab": {
          "base_uri": "https://localhost:8080/"
        },
        "id": "D3EJ1q96_JBI",
        "outputId": "710db3e6-517e-4671-b6d6-4727defe9c10"
      },
      "source": [
        "from google.colab import drive\n",
        "drive.mount('/content/gdrive')"
      ],
      "execution_count": 2,
      "outputs": [
        {
          "output_type": "stream",
          "text": [
            "Mounted at /content/gdrive\n"
          ],
          "name": "stdout"
        }
      ]
    },
    {
      "cell_type": "code",
      "metadata": {
        "id": "VB9oJUnk_NAm"
      },
      "source": [
        "DatasetBaseFolder = '/content/gdrive/MyDrive/ColabNotebooks/PandasTl/Datasets/'"
      ],
      "execution_count": 6,
      "outputs": []
    },
    {
      "cell_type": "code",
      "metadata": {
        "id": "OoMl1eh9_gcq"
      },
      "source": [
        "stu_df = pd.read_csv(DatasetBaseFolder+\"studentdata.csv\", index_col=\"Name\")\n"
      ],
      "execution_count": 7,
      "outputs": []
    },
    {
      "cell_type": "markdown",
      "metadata": {
        "id": "Bc5ebrivIFQj"
      },
      "source": [
        "# **PANDAS**"
      ]
    },
    {
      "cell_type": "code",
      "metadata": {
        "colab": {
          "base_uri": "https://localhost:8080/",
          "height": 0
        },
        "id": "8nmX5sglAHu-",
        "outputId": "a1ed4953-20f7-4dd4-c32e-1ae3d2b37c4d"
      },
      "source": [
        "stu_df.head(5)"
      ],
      "execution_count": 8,
      "outputs": [
        {
          "output_type": "execute_result",
          "data": {
            "text/html": [
              "<div>\n",
              "<style scoped>\n",
              "    .dataframe tbody tr th:only-of-type {\n",
              "        vertical-align: middle;\n",
              "    }\n",
              "\n",
              "    .dataframe tbody tr th {\n",
              "        vertical-align: top;\n",
              "    }\n",
              "\n",
              "    .dataframe thead th {\n",
              "        text-align: right;\n",
              "    }\n",
              "</style>\n",
              "<table border=\"1\" class=\"dataframe\">\n",
              "  <thead>\n",
              "    <tr style=\"text-align: right;\">\n",
              "      <th></th>\n",
              "      <th>RollNo</th>\n",
              "      <th>Gender</th>\n",
              "      <th>Branch</th>\n",
              "      <th>District</th>\n",
              "      <th>State</th>\n",
              "      <th>HorD</th>\n",
              "      <th>AdmissionYear</th>\n",
              "      <th>CGPA</th>\n",
              "      <th>Batch</th>\n",
              "    </tr>\n",
              "    <tr>\n",
              "      <th>Name</th>\n",
              "      <th></th>\n",
              "      <th></th>\n",
              "      <th></th>\n",
              "      <th></th>\n",
              "      <th></th>\n",
              "      <th></th>\n",
              "      <th></th>\n",
              "      <th></th>\n",
              "      <th></th>\n",
              "    </tr>\n",
              "  </thead>\n",
              "  <tbody>\n",
              "    <tr>\n",
              "      <th>Sowmya</th>\n",
              "      <td>A14001</td>\n",
              "      <td>Female</td>\n",
              "      <td>CSE</td>\n",
              "      <td>Hyderabad</td>\n",
              "      <td>ANDHRA PRADESH</td>\n",
              "      <td>Hostelite</td>\n",
              "      <td>2014</td>\n",
              "      <td>7.07</td>\n",
              "      <td>A</td>\n",
              "    </tr>\n",
              "    <tr>\n",
              "      <th>Adarsh</th>\n",
              "      <td>A14003</td>\n",
              "      <td>Male</td>\n",
              "      <td>CSE</td>\n",
              "      <td>Thrissur</td>\n",
              "      <td>KERALA</td>\n",
              "      <td>Dayscholar</td>\n",
              "      <td>2014</td>\n",
              "      <td>5.58</td>\n",
              "      <td>A</td>\n",
              "    </tr>\n",
              "    <tr>\n",
              "      <th>Aiswarya</th>\n",
              "      <td>A14004</td>\n",
              "      <td>Female</td>\n",
              "      <td>CSE</td>\n",
              "      <td>Trissur</td>\n",
              "      <td>KERALA</td>\n",
              "      <td>Dayscholar</td>\n",
              "      <td>2014</td>\n",
              "      <td>8.54</td>\n",
              "      <td>A</td>\n",
              "    </tr>\n",
              "    <tr>\n",
              "      <th>Akhil</th>\n",
              "      <td>A14005</td>\n",
              "      <td>Male</td>\n",
              "      <td>CSE</td>\n",
              "      <td>Kollam</td>\n",
              "      <td>KERALA</td>\n",
              "      <td>Dayscholar</td>\n",
              "      <td>2014</td>\n",
              "      <td>6.74</td>\n",
              "      <td>A</td>\n",
              "    </tr>\n",
              "    <tr>\n",
              "      <th>Akshay</th>\n",
              "      <td>A14006</td>\n",
              "      <td>Male</td>\n",
              "      <td>CSE</td>\n",
              "      <td>Kasaragode</td>\n",
              "      <td>KERALA</td>\n",
              "      <td>Dayscholar</td>\n",
              "      <td>2014</td>\n",
              "      <td>7.55</td>\n",
              "      <td>A</td>\n",
              "    </tr>\n",
              "  </tbody>\n",
              "</table>\n",
              "</div>"
            ],
            "text/plain": [
              "           RollNo  Gender Branch  ... AdmissionYear  CGPA Batch\n",
              "Name                              ...                          \n",
              "Sowmya     A14001  Female    CSE  ...          2014  7.07     A\n",
              "Adarsh     A14003    Male    CSE  ...          2014  5.58     A\n",
              "Aiswarya   A14004  Female    CSE  ...          2014  8.54     A\n",
              "Akhil      A14005    Male    CSE  ...          2014  6.74     A\n",
              "Akshay     A14006    Male    CSE  ...          2014  7.55     A\n",
              "\n",
              "[5 rows x 9 columns]"
            ]
          },
          "metadata": {
            "tags": []
          },
          "execution_count": 8
        }
      ]
    },
    {
      "cell_type": "code",
      "metadata": {
        "colab": {
          "base_uri": "https://localhost:8080/",
          "height": 0
        },
        "id": "Vf2PScNyAM2s",
        "outputId": "3e75e39b-8f2e-4990-a390-fb4860ccd8d8"
      },
      "source": [
        "stu_df.tail(5)"
      ],
      "execution_count": 9,
      "outputs": [
        {
          "output_type": "execute_result",
          "data": {
            "text/html": [
              "<div>\n",
              "<style scoped>\n",
              "    .dataframe tbody tr th:only-of-type {\n",
              "        vertical-align: middle;\n",
              "    }\n",
              "\n",
              "    .dataframe tbody tr th {\n",
              "        vertical-align: top;\n",
              "    }\n",
              "\n",
              "    .dataframe thead th {\n",
              "        text-align: right;\n",
              "    }\n",
              "</style>\n",
              "<table border=\"1\" class=\"dataframe\">\n",
              "  <thead>\n",
              "    <tr style=\"text-align: right;\">\n",
              "      <th></th>\n",
              "      <th>RollNo</th>\n",
              "      <th>Gender</th>\n",
              "      <th>Branch</th>\n",
              "      <th>District</th>\n",
              "      <th>State</th>\n",
              "      <th>HorD</th>\n",
              "      <th>AdmissionYear</th>\n",
              "      <th>CGPA</th>\n",
              "      <th>Batch</th>\n",
              "    </tr>\n",
              "    <tr>\n",
              "      <th>Name</th>\n",
              "      <th></th>\n",
              "      <th></th>\n",
              "      <th></th>\n",
              "      <th></th>\n",
              "      <th></th>\n",
              "      <th></th>\n",
              "      <th></th>\n",
              "      <th></th>\n",
              "      <th></th>\n",
              "    </tr>\n",
              "  </thead>\n",
              "  <tbody>\n",
              "    <tr>\n",
              "      <th>Shain Abraham Alex</th>\n",
              "      <td>D14167</td>\n",
              "      <td>Male</td>\n",
              "      <td>ME</td>\n",
              "      <td>Kollam</td>\n",
              "      <td>KERALA</td>\n",
              "      <td>Hostelite</td>\n",
              "      <td>2008</td>\n",
              "      <td>7.37</td>\n",
              "      <td>B</td>\n",
              "    </tr>\n",
              "    <tr>\n",
              "      <th>Sreekanth S</th>\n",
              "      <td>D14501</td>\n",
              "      <td>Male</td>\n",
              "      <td>ME</td>\n",
              "      <td>Alappuzha</td>\n",
              "      <td>KERALA</td>\n",
              "      <td>Hostelite</td>\n",
              "      <td>2008</td>\n",
              "      <td>8.89</td>\n",
              "      <td>B</td>\n",
              "    </tr>\n",
              "    <tr>\n",
              "      <th>Subhash R</th>\n",
              "      <td>D14502</td>\n",
              "      <td>Male</td>\n",
              "      <td>ME</td>\n",
              "      <td>Dindigul</td>\n",
              "      <td>TAMIL NADU</td>\n",
              "      <td>Dayscholar</td>\n",
              "      <td>2008</td>\n",
              "      <td>9.47</td>\n",
              "      <td>B</td>\n",
              "    </tr>\n",
              "    <tr>\n",
              "      <th>Vishnusai Chellam</th>\n",
              "      <td>D14503</td>\n",
              "      <td>Male</td>\n",
              "      <td>ME</td>\n",
              "      <td>Trivandrum</td>\n",
              "      <td>KERALA</td>\n",
              "      <td>Hostelite</td>\n",
              "      <td>2008</td>\n",
              "      <td>8.64</td>\n",
              "      <td>B</td>\n",
              "    </tr>\n",
              "    <tr>\n",
              "      <th>Savitri V</th>\n",
              "      <td>D14504</td>\n",
              "      <td>Female</td>\n",
              "      <td>ME</td>\n",
              "      <td>Tirunelveli</td>\n",
              "      <td>TAMIL NADU</td>\n",
              "      <td>Dayscholar</td>\n",
              "      <td>2008</td>\n",
              "      <td>8.80</td>\n",
              "      <td>B</td>\n",
              "    </tr>\n",
              "  </tbody>\n",
              "</table>\n",
              "</div>"
            ],
            "text/plain": [
              "                    RollNo  Gender Branch  ... AdmissionYear  CGPA Batch\n",
              "Name                                       ...                          \n",
              "Shain Abraham Alex  D14167    Male     ME  ...          2008  7.37     B\n",
              "Sreekanth S         D14501    Male     ME  ...          2008  8.89     B\n",
              "Subhash R           D14502    Male     ME  ...          2008  9.47     B\n",
              "Vishnusai Chellam   D14503    Male     ME  ...          2008  8.64     B\n",
              "Savitri V           D14504  Female     ME  ...          2008  8.80     B\n",
              "\n",
              "[5 rows x 9 columns]"
            ]
          },
          "metadata": {
            "tags": []
          },
          "execution_count": 9
        }
      ]
    },
    {
      "cell_type": "code",
      "metadata": {
        "colab": {
          "base_uri": "https://localhost:8080/"
        },
        "id": "MCScB6mmAkXJ",
        "outputId": "4d42efc0-1959-4614-a810-4d4d8c864192"
      },
      "source": [
        "stu_df.shape"
      ],
      "execution_count": 10,
      "outputs": [
        {
          "output_type": "execute_result",
          "data": {
            "text/plain": [
              "(460, 9)"
            ]
          },
          "metadata": {
            "tags": []
          },
          "execution_count": 10
        }
      ]
    },
    {
      "cell_type": "code",
      "metadata": {
        "colab": {
          "base_uri": "https://localhost:8080/"
        },
        "id": "r8uDHvFOAnzp",
        "outputId": "60736c47-b1d7-40dd-ad3d-a7cd4e34cd64"
      },
      "source": [
        "stu_df.info()"
      ],
      "execution_count": 11,
      "outputs": [
        {
          "output_type": "stream",
          "text": [
            "<class 'pandas.core.frame.DataFrame'>\n",
            "Index: 460 entries, Sowmya  to Savitri V\n",
            "Data columns (total 9 columns):\n",
            " #   Column         Non-Null Count  Dtype  \n",
            "---  ------         --------------  -----  \n",
            " 0   RollNo         460 non-null    object \n",
            " 1   Gender         460 non-null    object \n",
            " 2   Branch         460 non-null    object \n",
            " 3   District       460 non-null    object \n",
            " 4   State          460 non-null    object \n",
            " 5   HorD           460 non-null    object \n",
            " 6   AdmissionYear  460 non-null    int64  \n",
            " 7   CGPA           460 non-null    float64\n",
            " 8   Batch          460 non-null    object \n",
            "dtypes: float64(1), int64(1), object(7)\n",
            "memory usage: 35.9+ KB\n"
          ],
          "name": "stdout"
        }
      ]
    },
    {
      "cell_type": "code",
      "metadata": {
        "colab": {
          "base_uri": "https://localhost:8080/"
        },
        "id": "4fkkq4vHAq0I",
        "outputId": "cc5b84c1-7ea0-4d80-b56a-1de1b5533823"
      },
      "source": [
        "stu_df.isnull().sum()"
      ],
      "execution_count": 12,
      "outputs": [
        {
          "output_type": "execute_result",
          "data": {
            "text/plain": [
              "RollNo           0\n",
              "Gender           0\n",
              "Branch           0\n",
              "District         0\n",
              "State            0\n",
              "HorD             0\n",
              "AdmissionYear    0\n",
              "CGPA             0\n",
              "Batch            0\n",
              "dtype: int64"
            ]
          },
          "metadata": {
            "tags": []
          },
          "execution_count": 12
        }
      ]
    },
    {
      "cell_type": "code",
      "metadata": {
        "colab": {
          "base_uri": "https://localhost:8080/"
        },
        "id": "whMA6BhrAyK6",
        "outputId": "ddd9190f-a46c-4c93-c060-71db5c626543"
      },
      "source": [
        "stu_df.columns"
      ],
      "execution_count": 13,
      "outputs": [
        {
          "output_type": "execute_result",
          "data": {
            "text/plain": [
              "Index(['RollNo', 'Gender', 'Branch', 'District', 'State', 'HorD',\n",
              "       'AdmissionYear', 'CGPA', 'Batch'],\n",
              "      dtype='object')"
            ]
          },
          "metadata": {
            "tags": []
          },
          "execution_count": 13
        }
      ]
    },
    {
      "cell_type": "code",
      "metadata": {
        "id": "kcr82TlrA6lM"
      },
      "source": [
        "stu_df.rename(columns={'Branch' : 'Course'},inplace=True)"
      ],
      "execution_count": 14,
      "outputs": []
    },
    {
      "cell_type": "code",
      "metadata": {
        "colab": {
          "base_uri": "https://localhost:8080/"
        },
        "id": "5RT9AtbpDb0x",
        "outputId": "210de67e-c37e-4cc3-e8b0-6df02958d518"
      },
      "source": [
        "stu_df.columns"
      ],
      "execution_count": 15,
      "outputs": [
        {
          "output_type": "execute_result",
          "data": {
            "text/plain": [
              "Index(['RollNo', 'Gender', 'Course', 'District', 'State', 'HorD',\n",
              "       'AdmissionYear', 'CGPA', 'Batch'],\n",
              "      dtype='object')"
            ]
          },
          "metadata": {
            "tags": []
          },
          "execution_count": 15
        }
      ]
    },
    {
      "cell_type": "code",
      "metadata": {
        "colab": {
          "base_uri": "https://localhost:8080/",
          "height": 0
        },
        "id": "bFI8xypSDfL-",
        "outputId": "076b4984-3328-4b4b-d6ee-3b159b2ec946"
      },
      "source": [
        "stu_df.describe()"
      ],
      "execution_count": 16,
      "outputs": [
        {
          "output_type": "execute_result",
          "data": {
            "text/html": [
              "<div>\n",
              "<style scoped>\n",
              "    .dataframe tbody tr th:only-of-type {\n",
              "        vertical-align: middle;\n",
              "    }\n",
              "\n",
              "    .dataframe tbody tr th {\n",
              "        vertical-align: top;\n",
              "    }\n",
              "\n",
              "    .dataframe thead th {\n",
              "        text-align: right;\n",
              "    }\n",
              "</style>\n",
              "<table border=\"1\" class=\"dataframe\">\n",
              "  <thead>\n",
              "    <tr style=\"text-align: right;\">\n",
              "      <th></th>\n",
              "      <th>AdmissionYear</th>\n",
              "      <th>CGPA</th>\n",
              "    </tr>\n",
              "  </thead>\n",
              "  <tbody>\n",
              "    <tr>\n",
              "      <th>count</th>\n",
              "      <td>460.000000</td>\n",
              "      <td>460.000000</td>\n",
              "    </tr>\n",
              "    <tr>\n",
              "      <th>mean</th>\n",
              "      <td>2011.113043</td>\n",
              "      <td>7.584435</td>\n",
              "    </tr>\n",
              "    <tr>\n",
              "      <th>std</th>\n",
              "      <td>2.563410</td>\n",
              "      <td>1.343028</td>\n",
              "    </tr>\n",
              "    <tr>\n",
              "      <th>min</th>\n",
              "      <td>2005.000000</td>\n",
              "      <td>3.550000</td>\n",
              "    </tr>\n",
              "    <tr>\n",
              "      <th>25%</th>\n",
              "      <td>2010.000000</td>\n",
              "      <td>6.650000</td>\n",
              "    </tr>\n",
              "    <tr>\n",
              "      <th>50%</th>\n",
              "      <td>2012.000000</td>\n",
              "      <td>7.760000</td>\n",
              "    </tr>\n",
              "    <tr>\n",
              "      <th>75%</th>\n",
              "      <td>2013.000000</td>\n",
              "      <td>8.642500</td>\n",
              "    </tr>\n",
              "    <tr>\n",
              "      <th>max</th>\n",
              "      <td>2014.000000</td>\n",
              "      <td>9.640000</td>\n",
              "    </tr>\n",
              "  </tbody>\n",
              "</table>\n",
              "</div>"
            ],
            "text/plain": [
              "       AdmissionYear        CGPA\n",
              "count     460.000000  460.000000\n",
              "mean     2011.113043    7.584435\n",
              "std         2.563410    1.343028\n",
              "min      2005.000000    3.550000\n",
              "25%      2010.000000    6.650000\n",
              "50%      2012.000000    7.760000\n",
              "75%      2013.000000    8.642500\n",
              "max      2014.000000    9.640000"
            ]
          },
          "metadata": {
            "tags": []
          },
          "execution_count": 16
        }
      ]
    },
    {
      "cell_type": "code",
      "metadata": {
        "colab": {
          "base_uri": "https://localhost:8080/"
        },
        "id": "NwsTEtCKD185",
        "outputId": "713ca23d-9c22-4196-81d7-a82fd493ee78"
      },
      "source": [
        "stu_df['HorD'].value_counts()"
      ],
      "execution_count": 17,
      "outputs": [
        {
          "output_type": "execute_result",
          "data": {
            "text/plain": [
              "Hostelite     287\n",
              "Dayscholar    173\n",
              "Name: HorD, dtype: int64"
            ]
          },
          "metadata": {
            "tags": []
          },
          "execution_count": 17
        }
      ]
    },
    {
      "cell_type": "code",
      "metadata": {
        "colab": {
          "base_uri": "https://localhost:8080/",
          "height": 0
        },
        "id": "dzhLgkjcEHUj",
        "outputId": "ce2f8cce-4cf2-409f-b581-b2ba93e2b58b"
      },
      "source": [
        "stu_df.corr()"
      ],
      "execution_count": 18,
      "outputs": [
        {
          "output_type": "execute_result",
          "data": {
            "text/html": [
              "<div>\n",
              "<style scoped>\n",
              "    .dataframe tbody tr th:only-of-type {\n",
              "        vertical-align: middle;\n",
              "    }\n",
              "\n",
              "    .dataframe tbody tr th {\n",
              "        vertical-align: top;\n",
              "    }\n",
              "\n",
              "    .dataframe thead th {\n",
              "        text-align: right;\n",
              "    }\n",
              "</style>\n",
              "<table border=\"1\" class=\"dataframe\">\n",
              "  <thead>\n",
              "    <tr style=\"text-align: right;\">\n",
              "      <th></th>\n",
              "      <th>AdmissionYear</th>\n",
              "      <th>CGPA</th>\n",
              "    </tr>\n",
              "  </thead>\n",
              "  <tbody>\n",
              "    <tr>\n",
              "      <th>AdmissionYear</th>\n",
              "      <td>1.000000</td>\n",
              "      <td>-0.011069</td>\n",
              "    </tr>\n",
              "    <tr>\n",
              "      <th>CGPA</th>\n",
              "      <td>-0.011069</td>\n",
              "      <td>1.000000</td>\n",
              "    </tr>\n",
              "  </tbody>\n",
              "</table>\n",
              "</div>"
            ],
            "text/plain": [
              "               AdmissionYear      CGPA\n",
              "AdmissionYear       1.000000 -0.011069\n",
              "CGPA               -0.011069  1.000000"
            ]
          },
          "metadata": {
            "tags": []
          },
          "execution_count": 18
        }
      ]
    },
    {
      "cell_type": "code",
      "metadata": {
        "colab": {
          "base_uri": "https://localhost:8080/"
        },
        "id": "_Rpii4WxEU74",
        "outputId": "3843b791-a0a3-427f-fd35-6420e505761d"
      },
      "source": [
        "gpa = stu_df['CGPA']\n",
        "gpa[gpa.gt(8.0)]"
      ],
      "execution_count": 19,
      "outputs": [
        {
          "output_type": "execute_result",
          "data": {
            "text/plain": [
              "Name\n",
              "Aiswarya             8.54\n",
              "Amrita               8.53\n",
              "Anagha               8.04\n",
              "Mrudula              9.49\n",
              "Athira               8.65\n",
              "                     ... \n",
              "Vishnu Valsan K      9.50\n",
              "Sreekanth S          8.89\n",
              "Subhash R            9.47\n",
              "Vishnusai Chellam    8.64\n",
              "Savitri V            8.80\n",
              "Name: CGPA, Length: 196, dtype: float64"
            ]
          },
          "metadata": {
            "tags": []
          },
          "execution_count": 19
        }
      ]
    },
    {
      "cell_type": "code",
      "metadata": {
        "colab": {
          "base_uri": "https://localhost:8080/",
          "height": 0
        },
        "id": "R9Uben-nEyrr",
        "outputId": "b6239087-0c9f-4505-c4c5-43fc66ba70f8"
      },
      "source": [
        "gpa1 = stu_df[(stu_df['HorD'] == \"Hostelite\") & (stu_df['State'] == \"KERALA\")]\n",
        "gpa1.head(10)"
      ],
      "execution_count": 20,
      "outputs": [
        {
          "output_type": "execute_result",
          "data": {
            "text/html": [
              "<div>\n",
              "<style scoped>\n",
              "    .dataframe tbody tr th:only-of-type {\n",
              "        vertical-align: middle;\n",
              "    }\n",
              "\n",
              "    .dataframe tbody tr th {\n",
              "        vertical-align: top;\n",
              "    }\n",
              "\n",
              "    .dataframe thead th {\n",
              "        text-align: right;\n",
              "    }\n",
              "</style>\n",
              "<table border=\"1\" class=\"dataframe\">\n",
              "  <thead>\n",
              "    <tr style=\"text-align: right;\">\n",
              "      <th></th>\n",
              "      <th>RollNo</th>\n",
              "      <th>Gender</th>\n",
              "      <th>Course</th>\n",
              "      <th>District</th>\n",
              "      <th>State</th>\n",
              "      <th>HorD</th>\n",
              "      <th>AdmissionYear</th>\n",
              "      <th>CGPA</th>\n",
              "      <th>Batch</th>\n",
              "    </tr>\n",
              "    <tr>\n",
              "      <th>Name</th>\n",
              "      <th></th>\n",
              "      <th></th>\n",
              "      <th></th>\n",
              "      <th></th>\n",
              "      <th></th>\n",
              "      <th></th>\n",
              "      <th></th>\n",
              "      <th></th>\n",
              "      <th></th>\n",
              "    </tr>\n",
              "  </thead>\n",
              "  <tbody>\n",
              "    <tr>\n",
              "      <th>Aparnna</th>\n",
              "      <td>A14011</td>\n",
              "      <td>Female</td>\n",
              "      <td>CSE</td>\n",
              "      <td>Pathanamthitta</td>\n",
              "      <td>KERALA</td>\n",
              "      <td>Hostelite</td>\n",
              "      <td>2014</td>\n",
              "      <td>6.65</td>\n",
              "      <td>A</td>\n",
              "    </tr>\n",
              "    <tr>\n",
              "      <th>Arjun</th>\n",
              "      <td>A14012</td>\n",
              "      <td>Male</td>\n",
              "      <td>CSE</td>\n",
              "      <td>Calicut</td>\n",
              "      <td>KERALA</td>\n",
              "      <td>Hostelite</td>\n",
              "      <td>2014</td>\n",
              "      <td>7.16</td>\n",
              "      <td>A</td>\n",
              "    </tr>\n",
              "    <tr>\n",
              "      <th>Athira</th>\n",
              "      <td>A14014</td>\n",
              "      <td>Female</td>\n",
              "      <td>CSE</td>\n",
              "      <td>Kottayam</td>\n",
              "      <td>KERALA</td>\n",
              "      <td>Hostelite</td>\n",
              "      <td>2014</td>\n",
              "      <td>8.65</td>\n",
              "      <td>A</td>\n",
              "    </tr>\n",
              "    <tr>\n",
              "      <th>Chirath</th>\n",
              "      <td>A14019</td>\n",
              "      <td>Male</td>\n",
              "      <td>CSE</td>\n",
              "      <td>Idukki</td>\n",
              "      <td>KERALA</td>\n",
              "      <td>Hostelite</td>\n",
              "      <td>2012</td>\n",
              "      <td>9.12</td>\n",
              "      <td>A</td>\n",
              "    </tr>\n",
              "    <tr>\n",
              "      <th>DeviPriya</th>\n",
              "      <td>A14020</td>\n",
              "      <td>Female</td>\n",
              "      <td>CSE</td>\n",
              "      <td>Kannur</td>\n",
              "      <td>KERALA</td>\n",
              "      <td>Hostelite</td>\n",
              "      <td>2012</td>\n",
              "      <td>7.74</td>\n",
              "      <td>A</td>\n",
              "    </tr>\n",
              "    <tr>\n",
              "      <th>Emmanuel</th>\n",
              "      <td>A14022</td>\n",
              "      <td>Male</td>\n",
              "      <td>CSE</td>\n",
              "      <td>Palakkad</td>\n",
              "      <td>KERALA</td>\n",
              "      <td>Hostelite</td>\n",
              "      <td>2012</td>\n",
              "      <td>7.13</td>\n",
              "      <td>A</td>\n",
              "    </tr>\n",
              "    <tr>\n",
              "      <th>Harigovind</th>\n",
              "      <td>A14029</td>\n",
              "      <td>Male</td>\n",
              "      <td>CSE</td>\n",
              "      <td>Trivandrum</td>\n",
              "      <td>KERALA</td>\n",
              "      <td>Hostelite</td>\n",
              "      <td>2014</td>\n",
              "      <td>4.03</td>\n",
              "      <td>A</td>\n",
              "    </tr>\n",
              "    <tr>\n",
              "      <th>Heeraj</th>\n",
              "      <td>A14031</td>\n",
              "      <td>Male</td>\n",
              "      <td>CSE</td>\n",
              "      <td>Palakkad</td>\n",
              "      <td>KERALA</td>\n",
              "      <td>Hostelite</td>\n",
              "      <td>2014</td>\n",
              "      <td>8.77</td>\n",
              "      <td>A</td>\n",
              "    </tr>\n",
              "    <tr>\n",
              "      <th>Karthik</th>\n",
              "      <td>A14036</td>\n",
              "      <td>Male</td>\n",
              "      <td>CSE</td>\n",
              "      <td>Thrissur</td>\n",
              "      <td>KERALA</td>\n",
              "      <td>Hostelite</td>\n",
              "      <td>2011</td>\n",
              "      <td>6.63</td>\n",
              "      <td>A</td>\n",
              "    </tr>\n",
              "    <tr>\n",
              "      <th>Krithic</th>\n",
              "      <td>A14039</td>\n",
              "      <td>Male</td>\n",
              "      <td>CSE</td>\n",
              "      <td>Calicut</td>\n",
              "      <td>KERALA</td>\n",
              "      <td>Hostelite</td>\n",
              "      <td>2011</td>\n",
              "      <td>7.38</td>\n",
              "      <td>B</td>\n",
              "    </tr>\n",
              "  </tbody>\n",
              "</table>\n",
              "</div>"
            ],
            "text/plain": [
              "            RollNo  Gender Course  ... AdmissionYear  CGPA Batch\n",
              "Name                               ...                          \n",
              "Aparnna     A14011  Female    CSE  ...          2014  6.65     A\n",
              "Arjun       A14012    Male    CSE  ...          2014  7.16     A\n",
              "Athira      A14014  Female    CSE  ...          2014  8.65     A\n",
              "Chirath     A14019    Male    CSE  ...          2012  9.12     A\n",
              "DeviPriya   A14020  Female    CSE  ...          2012  7.74     A\n",
              "Emmanuel    A14022    Male    CSE  ...          2012  7.13     A\n",
              "Harigovind  A14029    Male    CSE  ...          2014  4.03     A\n",
              "Heeraj      A14031    Male    CSE  ...          2014  8.77     A\n",
              "Karthik     A14036    Male    CSE  ...          2011  6.63     A\n",
              "Krithic     A14039    Male    CSE  ...          2011  7.38     B\n",
              "\n",
              "[10 rows x 9 columns]"
            ]
          },
          "metadata": {
            "tags": []
          },
          "execution_count": 20
        }
      ]
    },
    {
      "cell_type": "code",
      "metadata": {
        "colab": {
          "base_uri": "https://localhost:8080/",
          "height": 0
        },
        "id": "_dePKNpTF9f3",
        "outputId": "7bfd2436-d834-4352-e7cb-d766db384e50"
      },
      "source": [
        "gpa2 = stu_df[((stu_df['HorD'] == \"Hostelite\") & (stu_df['State'] == \"ANDHRA PRADESH\")) & (stu_df['CGPA'] > 8.0)] \n",
        "gpa2.head(6)"
      ],
      "execution_count": 21,
      "outputs": [
        {
          "output_type": "execute_result",
          "data": {
            "text/html": [
              "<div>\n",
              "<style scoped>\n",
              "    .dataframe tbody tr th:only-of-type {\n",
              "        vertical-align: middle;\n",
              "    }\n",
              "\n",
              "    .dataframe tbody tr th {\n",
              "        vertical-align: top;\n",
              "    }\n",
              "\n",
              "    .dataframe thead th {\n",
              "        text-align: right;\n",
              "    }\n",
              "</style>\n",
              "<table border=\"1\" class=\"dataframe\">\n",
              "  <thead>\n",
              "    <tr style=\"text-align: right;\">\n",
              "      <th></th>\n",
              "      <th>RollNo</th>\n",
              "      <th>Gender</th>\n",
              "      <th>Course</th>\n",
              "      <th>District</th>\n",
              "      <th>State</th>\n",
              "      <th>HorD</th>\n",
              "      <th>AdmissionYear</th>\n",
              "      <th>CGPA</th>\n",
              "      <th>Batch</th>\n",
              "    </tr>\n",
              "    <tr>\n",
              "      <th>Name</th>\n",
              "      <th></th>\n",
              "      <th></th>\n",
              "      <th></th>\n",
              "      <th></th>\n",
              "      <th></th>\n",
              "      <th></th>\n",
              "      <th></th>\n",
              "      <th></th>\n",
              "      <th></th>\n",
              "    </tr>\n",
              "  </thead>\n",
              "  <tbody>\n",
              "    <tr>\n",
              "      <th>Kripa</th>\n",
              "      <td>A14038</td>\n",
              "      <td>Female</td>\n",
              "      <td>CSE</td>\n",
              "      <td>Rangareddy</td>\n",
              "      <td>ANDHRA PRADESH</td>\n",
              "      <td>Hostelite</td>\n",
              "      <td>2011</td>\n",
              "      <td>8.22</td>\n",
              "      <td>A</td>\n",
              "    </tr>\n",
              "    <tr>\n",
              "      <th>Venkat</th>\n",
              "      <td>A14041</td>\n",
              "      <td>Male</td>\n",
              "      <td>CSE</td>\n",
              "      <td>Krishna</td>\n",
              "      <td>ANDHRA PRADESH</td>\n",
              "      <td>Hostelite</td>\n",
              "      <td>2011</td>\n",
              "      <td>8.46</td>\n",
              "      <td>B</td>\n",
              "    </tr>\n",
              "    <tr>\n",
              "      <th>Showrya</th>\n",
              "      <td>A14051</td>\n",
              "      <td>Male</td>\n",
              "      <td>CSE</td>\n",
              "      <td>Hyderabad</td>\n",
              "      <td>ANDHRA PRADESH</td>\n",
              "      <td>Hostelite</td>\n",
              "      <td>2010</td>\n",
              "      <td>8.92</td>\n",
              "      <td>B</td>\n",
              "    </tr>\n",
              "    <tr>\n",
              "      <th>Jagadeesh</th>\n",
              "      <td>A14052</td>\n",
              "      <td>Male</td>\n",
              "      <td>CSE</td>\n",
              "      <td>Karimnagar</td>\n",
              "      <td>ANDHRA PRADESH</td>\n",
              "      <td>Hostelite</td>\n",
              "      <td>2010</td>\n",
              "      <td>8.98</td>\n",
              "      <td>B</td>\n",
              "    </tr>\n",
              "    <tr>\n",
              "      <th>Kaushik</th>\n",
              "      <td>A14059</td>\n",
              "      <td>Male</td>\n",
              "      <td>CSE</td>\n",
              "      <td>Hyderabad</td>\n",
              "      <td>ANDHRA PRADESH</td>\n",
              "      <td>Hostelite</td>\n",
              "      <td>2009</td>\n",
              "      <td>8.64</td>\n",
              "      <td>C</td>\n",
              "    </tr>\n",
              "    <tr>\n",
              "      <th>Nikhil</th>\n",
              "      <td>A14064</td>\n",
              "      <td>Male</td>\n",
              "      <td>CSE</td>\n",
              "      <td>Krishna</td>\n",
              "      <td>ANDHRA PRADESH</td>\n",
              "      <td>Hostelite</td>\n",
              "      <td>2009</td>\n",
              "      <td>8.21</td>\n",
              "      <td>C</td>\n",
              "    </tr>\n",
              "  </tbody>\n",
              "</table>\n",
              "</div>"
            ],
            "text/plain": [
              "           RollNo  Gender Course  ... AdmissionYear  CGPA Batch\n",
              "Name                              ...                          \n",
              "Kripa      A14038  Female    CSE  ...          2011  8.22     A\n",
              "Venkat     A14041    Male    CSE  ...          2011  8.46     B\n",
              "Showrya    A14051    Male    CSE  ...          2010  8.92     B\n",
              "Jagadeesh  A14052    Male    CSE  ...          2010  8.98     B\n",
              " Kaushik   A14059    Male    CSE  ...          2009  8.64     C\n",
              "Nikhil     A14064    Male    CSE  ...          2009  8.21     C\n",
              "\n",
              "[6 rows x 9 columns]"
            ]
          },
          "metadata": {
            "tags": []
          },
          "execution_count": 21
        }
      ]
    },
    {
      "cell_type": "markdown",
      "metadata": {
        "id": "YGr2PjJPH-os"
      },
      "source": [
        "# **DATA EXPLOARTION**"
      ]
    },
    {
      "cell_type": "code",
      "metadata": {
        "id": "iyDMOmUmHZmX"
      },
      "source": [
        "import matplotlib.pyplot as plt\n",
        "plt.rcParams.update({'font.size': 20, 'figure.figsize': (10, 8)})"
      ],
      "execution_count": 22,
      "outputs": []
    },
    {
      "cell_type": "code",
      "metadata": {
        "colab": {
          "base_uri": "https://localhost:8080/",
          "height": 0
        },
        "id": "ppNmAtp6HhOv",
        "outputId": "951034bc-1eb1-435c-8658-1843a3d46527"
      },
      "source": [
        "stu_df.plot(kind='scatter', x='CGPA', y='AdmissionYear', title='YEAR vs CGPA');"
      ],
      "execution_count": 23,
      "outputs": [
        {
          "output_type": "display_data",
          "data": {
            "image/png": "[encoded data removed]",
            "text/plain": [
              "<Figure size 720x576 with 1 Axes>"
            ]
          },
          "metadata": {
            "tags": [],
            "needs_background": "light"
          }
        }
      ]
    },
    {
      "cell_type": "code",
      "metadata": {
        "colab": {
          "base_uri": "https://localhost:8080/",
          "height": 0
        },
        "id": "jo9jBIAX83Qq",
        "outputId": "542e28a4-24ba-43d5-a6c3-6565eb09053f"
      },
      "source": [
        "stu_df['CGPA'].plot(kind='hist', title= \"CGPA\");"
      ],
      "execution_count": 24,
      "outputs": [
        {
          "output_type": "display_data",
          "data": {
            "image/png": "[encoded data removed]",
            "text/plain": [
              "<Figure size 720x576 with 1 Axes>"
            ]
          },
          "metadata": {
            "tags": [],
            "needs_background": "light"
          }
        }
      ]
    },
    {
      "cell_type": "code",
      "metadata": {
        "colab": {
          "base_uri": "https://localhost:8080/",
          "height": 0
        },
        "id": "YV8Ear9rIxsP",
        "outputId": "67eb3170-3503-4061-88b7-251a2bafa51e"
      },
      "source": [
        "stu_df['AdmissionYear'].plot(kind=\"box\");"
      ],
      "execution_count": 25,
      "outputs": [
        {
          "output_type": "display_data",
          "data": {
            "image/png": "[encoded data removed]",
            "text/plain": [
              "<Figure size 720x576 with 1 Axes>"
            ]
          },
          "metadata": {
            "tags": [],
            "needs_background": "light"
          }
        }
      ]
    }
  ]
}